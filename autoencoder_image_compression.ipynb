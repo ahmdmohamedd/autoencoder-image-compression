{
 "cells": [
  {
   "cell_type": "code",
   "execution_count": null,
   "id": "40155fe2-c909-49ad-ba03-32f9b1c658bd",
   "metadata": {},
   "outputs": [],
   "source": [
    "import os\n",
    "os.environ['KMP_DUPLICATE_LIB_OK'] = 'TRUE'\n",
    "import tensorflow as tf\n",
    "from tensorflow.keras import layers, models\n",
    "import matplotlib.pyplot as plt\n",
    "import numpy as np\n",
    "\n",
    "# Load the MNIST dataset\n",
    "(x_train, _), (x_test, _) = tf.keras.datasets.mnist.load_data()\n",
    "\n",
    "# Normalize the dataset (pixel values between 0 and 1)\n",
    "x_train = x_train.astype('float32') / 255.\n",
    "x_test = x_test.astype('float32') / 255.\n",
    "\n",
    "# Add a channel dimension to the dataset (required by Conv2D layers)\n",
    "x_train = np.expand_dims(x_train, axis=-1)\n",
    "x_test = np.expand_dims(x_test, axis=-1)\n",
    "\n",
    "# Check the shape\n",
    "print(f\"x_train shape: {x_train.shape}\")\n",
    "print(f\"x_test shape: {x_test.shape}\")\n"
   ]
  },
  {
   "cell_type": "code",
   "execution_count": null,
   "id": "3d1987eb-0f06-4907-bcdf-9cd5d614bf5c",
   "metadata": {},
   "outputs": [],
   "source": [
    "# Define the encoder\n",
    "def build_encoder():\n",
    "    encoder = models.Sequential()\n",
    "    encoder.add(layers.Input(shape=(28, 28, 1)))\n",
    "    encoder.add(layers.Conv2D(32, (3, 3), activation='relu', padding='same'))\n",
    "    encoder.add(layers.MaxPooling2D((2, 2), padding='same'))\n",
    "    encoder.add(layers.Conv2D(16, (3, 3), activation='relu', padding='same'))\n",
    "    encoder.add(layers.MaxPooling2D((2, 2), padding='same'))\n",
    "    return encoder\n",
    "\n",
    "# Define the decoder\n",
    "def build_decoder():\n",
    "    decoder = models.Sequential()\n",
    "    decoder.add(layers.Conv2D(16, (3, 3), activation='relu', padding='same', input_shape=(7, 7, 16)))\n",
    "    decoder.add(layers.UpSampling2D((2, 2)))\n",
    "    decoder.add(layers.Conv2D(32, (3, 3), activation='relu', padding='same'))\n",
    "    decoder.add(layers.UpSampling2D((2, 2)))\n",
    "    decoder.add(layers.Conv2D(1, (3, 3), activation='sigmoid', padding='same'))\n",
    "    return decoder"
   ]
  },
  {
   "cell_type": "code",
   "execution_count": null,
   "id": "02a151ed-fd25-404c-bf07-211c8157d8f4",
   "metadata": {},
   "outputs": [],
   "source": [
    "# Build the autoencoder model by combining encoder and decoder\n",
    "\n",
    "# Input shape for the autoencoder\n",
    "input_img = layers.Input(shape=(28, 28, 1))\n",
    "\n",
    "# Pass input through the encoder\n",
    "encoded_img = encoder(input_img)\n",
    "\n",
    "# Pass encoded image through the decoder\n",
    "decoded_img = decoder(encoded_img)\n",
    "\n",
    "# Define the autoencoder model using the functional API\n",
    "autoencoder = models.Model(input_img, decoded_img)\n",
    "\n",
    "# Compile the model\n",
    "autoencoder.compile(optimizer='adam', loss='binary_crossentropy')\n",
    "\n",
    "# Print the model summary\n",
    "autoencoder.summary()\n"
   ]
  },
  {
   "cell_type": "code",
   "execution_count": null,
   "id": "2abf7387-2d09-4792-9658-c429e3e0fdcb",
   "metadata": {},
   "outputs": [],
   "source": [
    "# Train the autoencoder\n",
    "history = autoencoder.fit(x_train, x_train, epochs=20, batch_size=256, validation_data=(x_test, x_test))"
   ]
  },
  {
   "cell_type": "code",
   "execution_count": null,
   "id": "3830aeb4-57a1-4e0e-82f8-0e61e602a39b",
   "metadata": {},
   "outputs": [],
   "source": [
    "# Plot the loss during training\n",
    "plt.plot(history.history['loss'], label='Training Loss')\n",
    "plt.plot(history.history['val_loss'], label='Validation Loss')\n",
    "plt.xlabel('Epochs')\n",
    "plt.ylabel('Loss')\n",
    "plt.legend()\n",
    "plt.show()"
   ]
  },
  {
   "cell_type": "code",
   "execution_count": null,
   "id": "a6297599-2fd5-4894-a4b2-7bb04d543c39",
   "metadata": {},
   "outputs": [],
   "source": [
    "# Compress and reconstruct some test images\n",
    "encoded_imgs = encoder.predict(x_test)\n",
    "decoded_imgs = autoencoder.predict(x_test)\n",
    "\n",
    "# Display original, encoded (compressed), and reconstructed images\n",
    "n = 10  # Number of images to display\n",
    "plt.figure(figsize=(20, 6))\n",
    "for i in range(n):\n",
    "    # Display original\n",
    "    ax = plt.subplot(3, n, i + 1)\n",
    "    plt.imshow(x_test[i].reshape(28, 28), cmap='gray')\n",
    "    plt.title(\"Original\")\n",
    "    plt.axis('off')\n",
    "    \n",
    "    # Display encoded (compressed)\n",
    "    ax = plt.subplot(3, n, i + n + 1)\n",
    "    plt.imshow(encoded_imgs[i].reshape(7, 7 * 16), cmap='gray')  # Flattening the encoded image for visualization\n",
    "    plt.title(\"Encoded\")\n",
    "    plt.axis('off')\n",
    "\n",
    "    # Display reconstructed\n",
    "    ax = plt.subplot(3, n, i + 2 * n + 1)\n",
    "    plt.imshow(decoded_imgs[i].reshape(28, 28), cmap='gray')\n",
    "    plt.title(\"Reconstructed\")\n",
    "    plt.axis('off')\n",
    "plt.show()"
   ]
  },
  {
   "cell_type": "code",
   "execution_count": null,
   "id": "293134d6-bbab-4dbc-a1a4-77e019f279a6",
   "metadata": {},
   "outputs": [],
   "source": [
    "# Save the model for future use\n",
    "autoencoder.save('autoencoder_image_compression.h5')\n",
    "print(\"Model saved successfully!\")"
   ]
  }
 ],
 "metadata": {
  "kernelspec": {
   "display_name": "Python 3 (ipykernel)",
   "language": "python",
   "name": "python3"
  },
  "language_info": {
   "codemirror_mode": {
    "name": "ipython",
    "version": 3
   },
   "file_extension": ".py",
   "mimetype": "text/x-python",
   "name": "python",
   "nbconvert_exporter": "python",
   "pygments_lexer": "ipython3",
   "version": "3.9.18"
  }
 },
 "nbformat": 4,
 "nbformat_minor": 5
}
